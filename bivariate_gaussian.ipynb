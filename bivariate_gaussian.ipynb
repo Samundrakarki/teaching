{
 "cells": [
  {
   "cell_type": "code",
   "execution_count": null,
   "metadata": {
    "collapsed": false
   },
   "outputs": [],
   "source": [
    "%matplotlib notebook\n",
    "\n",
    "import numpy as np\n",
    "import matplotlib.pyplot as plt\n",
    "from scipy.stats import multivariate_normal\n",
    "from mpl_toolkits.mplot3d import Axes3D\n",
    "\n",
    "# generate 2d Gaussian distribution \n",
    "mu = [0,0]\n",
    "Sigma = [[1,0],[0,1]]\n",
    "rv = multivariate_normal(mu, Sigma)\n",
    "\n",
    "# plot PDF\n",
    "x_1 = np.linspace(-5,5,500)\n",
    "x_2 = np.linspace(-5,5,500)\n",
    "X_1, X_2 = np.meshgrid(x_1,x_2)\n",
    "pos = np.empty(X_1.shape + (2,))\n",
    "pos[:, :, 0] = X_1; pos[:, :, 1] = X_2\n",
    "fig = plt.figure()\n",
    "ax = fig.gca(projection='3d')\n",
    "ax.plot_surface(X_1, X_2, rv.pdf(pos),cmap='viridis',linewidth=0)\n",
    "ax.set_xlabel('X_1')\n",
    "ax.set_ylabel('X_2')\n",
    "ax.set_zlabel('density')\n",
    "plt.show()"
   ]
  }
 ],
 "metadata": {},
 "nbformat": 4,
 "nbformat_minor": 2
}
