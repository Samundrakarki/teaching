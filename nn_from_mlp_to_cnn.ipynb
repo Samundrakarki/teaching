{
 "cells": [
  {
   "cell_type": "code",
   "execution_count": null,
   "metadata": {},
   "outputs": [],
   "source": [
    "import tensorflow as tf\n",
    "from tensorflow import keras\n",
    "import numpy as np\n",
    "import matplotlib as mpl\n",
    "import matplotlib.pyplot as plt\n",
    "import pandas as pd\n",
    "\n",
    "#physical_devices = tf.config.experimental.list_physical_devices('GPU')\n",
    "#tf.config.experimental.set_memory_growth(physical_devices[0], True)"
   ]
  },
  {
   "cell_type": "code",
   "execution_count": null,
   "metadata": {},
   "outputs": [],
   "source": [
    "# Code sample taken from book: Hands-on Machine Learning with Scikit-Learn, Keras & Tensorflow (2nd edition)\n",
    "\n",
    "fashion_mnist = keras.datasets.fashion_mnist\n",
    "(X_train_full, y_train_full), (X_test, y_test) = fashion_mnist.load_data()\n",
    "\n",
    "X_valid, X_train = X_train_full[:5000] / 255., X_train_full[5000:] / 255.\n",
    "y_valid, y_train = y_train_full[:5000], y_train_full[5000:]\n",
    "X_test = X_test / 255.\n",
    "\n",
    "class_names = [\"T-shirt/top\", \"Trouser\", \"Pullover\", \"Dress\", \"Coat\",\n",
    "               \"Sandal\", \"Shirt\", \"Sneaker\", \"Bag\", \"Ankle boot\"]\n",
    "\n",
    "n_rows = 4\n",
    "n_cols = 10\n",
    "plt.figure(figsize=(n_cols * 1.2, n_rows * 1.2))\n",
    "for row in range(n_rows):\n",
    "    for col in range(n_cols):\n",
    "        index = n_cols * row + col\n",
    "        plt.subplot(n_rows, n_cols, index + 1)\n",
    "        plt.imshow(X_train[index], cmap=\"binary\", interpolation=\"nearest\")\n",
    "        plt.axis('off')\n",
    "        plt.title(class_names[y_train[index]], fontsize=12)\n",
    "plt.subplots_adjust(wspace=0.2, hspace=0.5)\n",
    "plt.show()"
   ]
  },
  {
   "cell_type": "code",
   "execution_count": null,
   "metadata": {},
   "outputs": [],
   "source": [
    "model = keras.models.Sequential()\n",
    "model.add(keras.layers.Flatten(input_shape=[28, 28]))\n",
    "model.add(keras.layers.Dense(300, activation=\"relu\"))\n",
    "model.add(keras.layers.Dense(100, activation=\"relu\"))\n",
    "model.add(keras.layers.Dense(10, activation=\"softmax\"))\n",
    "\n",
    "keras.utils.plot_model(model, \"my_fashion_mnist_model.png\", show_shapes=True)"
   ]
  },
  {
   "cell_type": "code",
   "execution_count": 4,
   "metadata": {},
   "outputs": [
    {
     "name": "stdout",
     "output_type": "stream",
     "text": [
      "Train on 55000 samples, validate on 5000 samples\n",
      "Epoch 1/30\n",
      "55000/55000 [==============================] - 6s 114us/sample - loss: 0.7106 - accuracy: 0.7659 - val_loss: 0.5326 - val_accuracy: 0.8076\n",
      "Epoch 2/30\n",
      "55000/55000 [==============================] - 5s 100us/sample - loss: 0.4877 - accuracy: 0.8302 - val_loss: 0.4516 - val_accuracy: 0.8458\n",
      "Epoch 3/30\n",
      "55000/55000 [==============================] - 6s 104us/sample - loss: 0.4430 - accuracy: 0.8437 - val_loss: 0.4472 - val_accuracy: 0.8330\n",
      "Epoch 4/30\n",
      "55000/55000 [==============================] - 6s 102us/sample - loss: 0.4151 - accuracy: 0.8536 - val_loss: 0.4016 - val_accuracy: 0.8642\n",
      "Epoch 5/30\n",
      "55000/55000 [==============================] - 5s 96us/sample - loss: 0.3935 - accuracy: 0.8621 - val_loss: 0.3873 - val_accuracy: 0.8652\n",
      "Epoch 6/30\n",
      "55000/55000 [==============================] - 6s 101us/sample - loss: 0.3775 - accuracy: 0.8659 - val_loss: 0.3718 - val_accuracy: 0.8710\n",
      "Epoch 7/30\n",
      "55000/55000 [==============================] - 5s 98us/sample - loss: 0.3639 - accuracy: 0.8717 - val_loss: 0.3655 - val_accuracy: 0.8694\n",
      "Epoch 8/30\n",
      "55000/55000 [==============================] - 5s 96us/sample - loss: 0.3518 - accuracy: 0.8755 - val_loss: 0.3508 - val_accuracy: 0.8806\n",
      "Epoch 9/30\n",
      "55000/55000 [==============================] - 5s 91us/sample - loss: 0.3416 - accuracy: 0.8785 - val_loss: 0.3588 - val_accuracy: 0.8732\n",
      "Epoch 10/30\n",
      "55000/55000 [==============================] - 5s 95us/sample - loss: 0.3318 - accuracy: 0.8818 - val_loss: 0.3470 - val_accuracy: 0.8762\n",
      "Epoch 11/30\n",
      "55000/55000 [==============================] - 5s 95us/sample - loss: 0.3227 - accuracy: 0.8848 - val_loss: 0.3437 - val_accuracy: 0.8798\n",
      "Epoch 12/30\n",
      "55000/55000 [==============================] - 5s 93us/sample - loss: 0.3146 - accuracy: 0.8864 - val_loss: 0.3417 - val_accuracy: 0.8796\n",
      "Epoch 13/30\n",
      "55000/55000 [==============================] - 5s 98us/sample - loss: 0.3072 - accuracy: 0.8893 - val_loss: 0.3387 - val_accuracy: 0.8748\n",
      "Epoch 14/30\n",
      "55000/55000 [==============================] - 5s 98us/sample - loss: 0.3002 - accuracy: 0.8909 - val_loss: 0.3277 - val_accuracy: 0.8862\n",
      "Epoch 15/30\n",
      "55000/55000 [==============================] - 5s 98us/sample - loss: 0.2943 - accuracy: 0.8934 - val_loss: 0.3192 - val_accuracy: 0.8852\n",
      "Epoch 16/30\n",
      "55000/55000 [==============================] - 6s 100us/sample - loss: 0.2874 - accuracy: 0.8957 - val_loss: 0.3284 - val_accuracy: 0.8822\n",
      "Epoch 17/30\n",
      "55000/55000 [==============================] - 6s 101us/sample - loss: 0.2814 - accuracy: 0.8976 - val_loss: 0.3223 - val_accuracy: 0.8886\n",
      "Epoch 18/30\n",
      "55000/55000 [==============================] - 5s 100us/sample - loss: 0.2760 - accuracy: 0.9002 - val_loss: 0.3117 - val_accuracy: 0.8894\n",
      "Epoch 19/30\n",
      "55000/55000 [==============================] - 6s 103us/sample - loss: 0.2715 - accuracy: 0.9019 - val_loss: 0.3083 - val_accuracy: 0.8878\n",
      "Epoch 20/30\n",
      "55000/55000 [==============================] - 5s 100us/sample - loss: 0.2656 - accuracy: 0.9033 - val_loss: 0.3033 - val_accuracy: 0.8902\n",
      "Epoch 21/30\n",
      "55000/55000 [==============================] - 5s 98us/sample - loss: 0.2603 - accuracy: 0.9057 - val_loss: 0.3119 - val_accuracy: 0.8866\n",
      "Epoch 22/30\n",
      "55000/55000 [==============================] - 5s 93us/sample - loss: 0.2555 - accuracy: 0.9075 - val_loss: 0.3254 - val_accuracy: 0.8838\n",
      "Epoch 23/30\n",
      "55000/55000 [==============================] - 5s 91us/sample - loss: 0.2520 - accuracy: 0.9095 - val_loss: 0.2960 - val_accuracy: 0.8952\n",
      "Epoch 24/30\n",
      "55000/55000 [==============================] - 5s 99us/sample - loss: 0.2469 - accuracy: 0.9104 - val_loss: 0.3028 - val_accuracy: 0.8878\n",
      "Epoch 25/30\n",
      "55000/55000 [==============================] - 5s 91us/sample - loss: 0.2434 - accuracy: 0.9118 - val_loss: 0.3019 - val_accuracy: 0.8924\n",
      "Epoch 26/30\n",
      "55000/55000 [==============================] - 5s 91us/sample - loss: 0.2387 - accuracy: 0.9142 - val_loss: 0.2954 - val_accuracy: 0.8918\n",
      "Epoch 27/30\n",
      "55000/55000 [==============================] - 5s 90us/sample - loss: 0.2341 - accuracy: 0.9154 - val_loss: 0.3105 - val_accuracy: 0.8896\n",
      "Epoch 28/30\n",
      "55000/55000 [==============================] - 5s 91us/sample - loss: 0.2302 - accuracy: 0.9172 - val_loss: 0.2938 - val_accuracy: 0.8960\n",
      "Epoch 29/30\n",
      "55000/55000 [==============================] - 5s 93us/sample - loss: 0.2265 - accuracy: 0.9182 - val_loss: 0.2952 - val_accuracy: 0.8942\n",
      "Epoch 30/30\n",
      "55000/55000 [==============================] - 5s 96us/sample - loss: 0.2235 - accuracy: 0.9196 - val_loss: 0.3213 - val_accuracy: 0.8850\n"
     ]
    }
   ],
   "source": [
    "model.compile(loss=\"sparse_categorical_crossentropy\",\n",
    "              optimizer=\"sgd\",\n",
    "              metrics=[\"accuracy\"])\n",
    "\n",
    "history = model.fit(X_train, y_train, epochs=30,\n",
    "                    validation_data=(X_valid, y_valid))"
   ]
  },
  {
   "cell_type": "code",
   "execution_count": 5,
   "metadata": {},
   "outputs": [],
   "source": [
    "# Code sample taken from book: Hands-on Machine Learning with Scikit-Learn, Keras & Tensorflow (2nd edition)\n",
    "\n",
    "#from sklearn.datasets import fetch_california_housing\n",
    "from sklearn.model_selection import train_test_split\n",
    "from sklearn.preprocessing import StandardScaler\n",
    "\n",
    "(X_train_full, y_train_full), (X_test, y_test) = keras.datasets.fashion_mnist.load_data()\n",
    "X_train, X_valid = X_train_full[:-5000], X_train_full[-5000:]\n",
    "y_train, y_valid = y_train_full[:-5000], y_train_full[-5000:]\n",
    "\n",
    "X_mean = X_train.mean(axis=0, keepdims=True)\n",
    "X_std = X_train.std(axis=0, keepdims=True) + 1e-7\n",
    "X_train = (X_train - X_mean) / X_std\n",
    "X_valid = (X_valid - X_mean) / X_std\n",
    "X_test = (X_test - X_mean) / X_std\n",
    "\n",
    "X_train = X_train[..., np.newaxis]\n",
    "X_valid = X_valid[..., np.newaxis]\n",
    "X_test = X_test[..., np.newaxis]"
   ]
  },
  {
   "cell_type": "code",
   "execution_count": null,
   "metadata": {},
   "outputs": [],
   "source": [
    "print(X_train.shape, y_train.shape)"
   ]
  },
  {
   "cell_type": "code",
   "execution_count": 7,
   "metadata": {},
   "outputs": [],
   "source": [
    "from functools import partial\n",
    "\n",
    "DefaultConv2D = partial(keras.layers.Conv2D,\n",
    "                        kernel_size=3, activation='relu', padding=\"SAME\")\n",
    "\n",
    "model = keras.models.Sequential([\n",
    "    DefaultConv2D(filters=64, kernel_size=7, input_shape=[28, 28, 1]),\n",
    "    keras.layers.MaxPooling2D(pool_size=2),\n",
    "    DefaultConv2D(filters=128),\n",
    "    DefaultConv2D(filters=128),\n",
    "    keras.layers.MaxPooling2D(pool_size=2),\n",
    "    DefaultConv2D(filters=256),\n",
    "    DefaultConv2D(filters=256),\n",
    "    keras.layers.MaxPooling2D(pool_size=2),\n",
    "    keras.layers.Flatten(),\n",
    "    keras.layers.Dense(units=128, activation='relu'),\n",
    "    keras.layers.Dropout(0.5),\n",
    "    keras.layers.Dense(units=64, activation='relu'),\n",
    "    keras.layers.Dropout(0.5),\n",
    "    keras.layers.Dense(units=10, activation='softmax'),\n",
    "])"
   ]
  },
  {
   "cell_type": "code",
   "execution_count": 8,
   "metadata": {},
   "outputs": [
    {
     "name": "stdout",
     "output_type": "stream",
     "text": [
      "Train on 55000 samples, validate on 5000 samples\n",
      "Epoch 1/10\n",
      "55000/55000 [==============================] - 20s 365us/sample - loss: 0.7178 - accuracy: 0.7511 - val_loss: 0.3918 - val_accuracy: 0.8524\n",
      "Epoch 2/10\n",
      "55000/55000 [==============================] - 15s 271us/sample - loss: 0.4264 - accuracy: 0.8581 - val_loss: 0.3227 - val_accuracy: 0.8816\n",
      "Epoch 3/10\n",
      "55000/55000 [==============================] - 15s 273us/sample - loss: 0.3681 - accuracy: 0.8758 - val_loss: 0.2973 - val_accuracy: 0.8902\n",
      "Epoch 4/10\n",
      "55000/55000 [==============================] - 16s 286us/sample - loss: 0.3346 - accuracy: 0.8865 - val_loss: 0.3166 - val_accuracy: 0.8910\n",
      "Epoch 5/10\n",
      "55000/55000 [==============================] - 15s 270us/sample - loss: 0.3083 - accuracy: 0.8942 - val_loss: 0.2857 - val_accuracy: 0.8966\n",
      "Epoch 6/10\n",
      "55000/55000 [==============================] - 15s 269us/sample - loss: 0.2973 - accuracy: 0.8998 - val_loss: 0.2980 - val_accuracy: 0.8968\n",
      "Epoch 7/10\n",
      "55000/55000 [==============================] - 15s 276us/sample - loss: 0.2818 - accuracy: 0.9048 - val_loss: 0.2794 - val_accuracy: 0.9054\n",
      "Epoch 8/10\n",
      "55000/55000 [==============================] - 16s 285us/sample - loss: 0.2659 - accuracy: 0.9086 - val_loss: 0.2910 - val_accuracy: 0.9016\n",
      "Epoch 9/10\n",
      "55000/55000 [==============================] - 15s 269us/sample - loss: 0.2609 - accuracy: 0.9098 - val_loss: 0.2698 - val_accuracy: 0.9030\n",
      "Epoch 10/10\n",
      "55000/55000 [==============================] - 15s 268us/sample - loss: 0.2469 - accuracy: 0.9157 - val_loss: 0.2826 - val_accuracy: 0.9002\n",
      "10000/10000 [==============================] - 1s 93us/sample - loss: 0.3084 - accuracy: 0.8965\n"
     ]
    }
   ],
   "source": [
    "\n",
    "\n",
    "model.compile(loss=\"sparse_categorical_crossentropy\", optimizer=\"nadam\", metrics=[\"accuracy\"])\n",
    "history = model.fit(X_train, y_train, epochs=10, validation_data=(X_valid, y_valid))\n",
    "score = model.evaluate(X_test, y_test)\n",
    "X_new = X_test[:10] # pretend we have new images\n",
    "y_pred = model.predict(X_new)"
   ]
  },
  {
   "cell_type": "code",
   "execution_count": 9,
   "metadata": {},
   "outputs": [
    {
     "data": {
      "image/png": "[encoded data removed]",
      "text/plain": [
       "<Figure size 720x360 with 1 Axes>"
      ]
     },
     "metadata": {
      "needs_background": "light"
     },
     "output_type": "display_data"
    }
   ],
   "source": [
    "pd.DataFrame(history.history).plot(figsize=(10, 5))\n",
    "plt.grid(True)\n",
    "plt.gca().set_ylim(0, 1)\n",
    "plt.show()"
   ]
  },
  {
   "cell_type": "code",
   "execution_count": null,
   "metadata": {},
   "outputs": [],
   "source": [
    "y_pred"
   ]
  },
  {
   "cell_type": "code",
   "execution_count": null,
   "metadata": {},
   "outputs": [],
   "source": []
  }
 ],
 "metadata": {
  "kernelspec": {
   "display_name": "Python 3",
   "language": "python",
   "name": "python3"
  },
  "language_info": {
   "codemirror_mode": {
    "name": "ipython",
    "version": 3
   },
   "file_extension": ".py",
   "mimetype": "text/x-python",
   "name": "python",
   "nbconvert_exporter": "python",
   "pygments_lexer": "ipython3",
   "version": "3.7.3"
  }
 },
 "nbformat": 4,
 "nbformat_minor": 2
}
