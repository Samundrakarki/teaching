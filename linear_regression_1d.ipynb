{
 "cells": [
  {
   "cell_type": "code",
   "execution_count": null,
   "metadata": {
    "collapsed": false
   },
   "outputs": [],
   "source": [
    "from sklearn import linear_model\n",
    "import numpy as np\n",
    "import matplotlib.pyplot as plt\n",
    "\n",
    "X = [[0], [1], [2], [3], [4]]\n",
    "y = [0, 0.3, 0.75, 1, 2]\n",
    "\n",
    "lin_regr = linear_model.LinearRegression()\n",
    "lin_regr.fit(X, y)\n",
    "\n",
    "X_eval = np.linspace(0,4,1000)\n",
    "X_eval = X_eval.reshape(-1,1)\n",
    "\n",
    "plt.figure()\n",
    "plt.plot(X_eval,lin_regr.predict(X_eval), label=\"linear regression predictor\")\n",
    "plt.plot(X,y, 'rs', markersize=12, label=\"trainin set\")\n",
    "plt.title(\"Simplistic test of linear regression on 1d input\")\n",
    "plt.show()"
   ]
  }
 ],
 "metadata": {},
 "nbformat": 4,
 "nbformat_minor": 2
}
