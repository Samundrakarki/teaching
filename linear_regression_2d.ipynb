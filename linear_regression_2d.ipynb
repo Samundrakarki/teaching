{
 "cells": [
  {
   "cell_type": "code",
   "execution_count": null,
   "metadata": {
    "collapsed": false
   },
   "outputs": [],
   "source": [
    "%matplotlib notebook\n",
    "\n",
    "from sklearn import linear_model\n",
    "import numpy as np\n",
    "import matplotlib.pyplot as plt\n",
    "from mpl_toolkits.mplot3d import Axes3D\n",
    "\n",
    "X = np.array([[0, 0], [1,2], [2,4], [3,0], [4,1]])\n",
    "y = np.array([0, 0.3, 0.75, 1, 2])\n",
    "\n",
    "lin_regr = linear_model.LinearRegression()\n",
    "lin_regr.fit(X, y)\n",
    "\n",
    "fig = plt.figure(figsize=(8, 6))\n",
    "ax = Axes3D(fig, elev=45, azim=-120)\n",
    "ax.scatter(X[:, 0], X[:, 1], y, c='r', marker='o', label='training set')\n",
    "ax.plot_surface(np.array([[-1, -1], [5, 5]]), np.array([[-1, 5], [-1, 5]]), lin_regr.predict(np.array([[-1, -1, 5, 5], [-1, 5, -1, 5]]).T).reshape((2, 2)), alpha=.5, label='linear regression predictor')\n",
    "ax.set_xlabel('input X_1')\n",
    "ax.set_ylabel('input X_2')\n",
    "ax.set_zlabel('output Y')\n",
    "plt.title(\"Simplistic test of linear regression on 2d input\")\n",
    "plt.show()"
   ]
  }
 ],
 "metadata": {},
 "nbformat": 4,
 "nbformat_minor": 2
}
